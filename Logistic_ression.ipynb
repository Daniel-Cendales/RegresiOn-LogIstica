{
 "cells": [
  {
   "cell_type": "markdown",
   "id": "013bfb60",
   "metadata": {
    "tags": []
   },
   "source": [
    "## Regresión ¿logística?\n",
    "\n",
    "Para quienes poseen cierto conocimiento (o interés) respecto a todo lo que involucra la estadística, ciencia de datos y demás líneas de conocimiento afines habrán escuchado o sabrán de lo útil, práctico, sencillo e interpretable que resultan ser los modelos de regresión.\n",
    "\n",
    "Como bien sabemos, los modelos de regresión lineales son usados para *modelar* la relación existente entre una (o más) variable(s) de respuesta **continua(s)** y una o más variables explicativas.\n",
    "\n",
    "**Nota:** los modelos de regresión con una sola variable respuesta *continua* son conocidos como modelos de [regresión lineal múltiple](https://en.wikipedia.org/wiki/Linear_regression). Los modelos con más de una variable respuesta *continua* se denominan [módelos de regresión multivariados.](https://en.wikipedia.org/wiki/General_linear_model)\n",
    "\n",
    "Sin embargo, aparece vagamente un comentario que no podemos obviar:"
   ]
  },
  {
   "cell_type": "code",
   "execution_count": 3,
   "id": "39d5a187-561b-4c1f-8e2f-b9c7b305edea",
   "metadata": {},
   "outputs": [
    {
     "name": "stdout",
     "output_type": "stream",
     "text": [
      " _________________________________________\n",
      "/ ¿Alguien quiere pensar en las variables \\\n",
      "| respuesta de tipo categóricas, por      |\n",
      "\\ favor?                                  /\n",
      " -----------------------------------------\n",
      "          \\\n",
      "           \\\n",
      "            \\          __---__\n",
      "                    _-       /--______\n",
      "               __--( /     \\ )XXXXXXXXXXX\\v.\n",
      "             .-XXX(   O   O  )XXXXXXXXXXXXXXX-\n",
      "            /XXX(       U     )        XXXXXXX\\\n",
      "          /XXXXX(              )--_  XXXXXXXXXXX\\\n",
      "         /XXXXX/ (      O     )   XXXXXX   \\XXXXX\\\n",
      "         XXXXX/   /            XXXXXX   \\__ \\XXXXX\n",
      "         XXXXXX__/          XXXXXX         \\__---->\n",
      " ---___  XXX__/          XXXXXX      \\__         /\n",
      "   \\-  --__/   ___/\\  XXXXXX            /  ___--/=\n",
      "    \\-\\    ___/    XXXXXX              '--- XXXXXX\n",
      "       \\-\\/XXX\\ XXXXXX                      /XXXXX\n",
      "         \\XXXXXXXXX   \\                    /XXXXX/\n",
      "          \\XXXXXX      >                 _/XXXXX/\n",
      "            \\XXXXX--__/              __-- XXXX/\n",
      "             -XXXXXXXX---------------  XXXXXX-\n",
      "                \\XXXXXXXXXXXXXXXXXXXXXXXXXX/\n",
      "                  \"\"VXXXXXXXXXXXXXXXXXXV\"\"\n"
     ]
    }
   ],
   "source": [
    "!cowsay -f ghostbusters \"¿Alguien quiere pensar en las variables respuesta de tipo categóricas, por favor?\""
   ]
  },
  {
   "cell_type": "markdown",
   "id": "58255b53-ea12-4e95-82ec-cc7d5c3e97a3",
   "metadata": {},
   "source": [
    "Para solventar esta problemática aparecen en escena los **modelos de regresión logística** como una de las posibles soluciones.\n",
    "\n",
    "### Pongámonos un poco técnicos\n",
    "\n",
    "La regresión logística se utiliza para predecir **la probabilidad** de una determinada clase o evento. Normalmente, el modelo es binomial, pero también puede extenderse a multinomial. Probablemente sea uno de los modelos más sencillos pero extremadamente útiles para muchas aplicaciones, por su rápida implementación y facilidad de interpretación.\n",
    "\n",
    "Podemos pensar que la regresión logística es un [modelo lineal generalizado ](https://en.wikipedia.org/wiki/Generalized_linear_model)(GLM por sus siglas en inglés). De forma muy simplificada, un GLM es un modelo de la forma \n",
    "\n",
    "$$E\\left[\\underbrace{\\mathbf{Y}}_{\\color{green}{\\text{Respuesta}}}\\Big|\\mathbf{x}\\right] = \\mu = \\overbrace{g^{-1}}^{\\color{red}{\\text{f. link}}}\\left(\\underbrace{\\mathbf{x}^t\\boldsymbol{\\beta}}_{\\color{blue}{\\text{predictor}}}\\right)$$\n",
    "\n",
    "Iniciemos con un modelo en el que el propósito sea predecir una variable de tipo cualitativa con dos categorías $A$ y $B$, usando algunas variables explicativas de las que tenemos información $\\mathbf{x} = [\\begin{array}{cccc}x_0 & x_1 & \\cdots & x_p\\end{array}]$. Si un individuo cae en la categoría $A$ le asignamos $1$, de lo contrario le asignamos $0$. Entonces, podemos asociar una variable $Y$ tal que $Y\\sim \\text{Ber}(p)$. Poniendo la información con la que disponemos, se tiene que \n",
    "\n",
    "$$E[\\mathbf{Y}|x] = p = g^{-1}\\left(\\mathbf{x}^t\\beta\\right)$$\n",
    "\n",
    "Donde:\n",
    "\n",
    "- $Y\\sim \\text{Ber}(p)$\n",
    "- $p$ es la probabilidad de que $Y = 1$, i.e. $P[Y=1] = p$\n",
    "\n",
    "Ahora bien, la función $g^{-1}$ debe ser conocida. Suponiendo que esta existe, debe pasar que $g(p) = \\mathbf{x}^t\\beta$; sin embargo recordemos que $p \\in (0, 1)$ entonces, la función $g$ debe construirse de tal forma que $g:(0,1)\\rightarrow \\mathbb{R}$, pues $\\mathbf{x}^t\\beta \\in \\mathbb{R}$.\n",
    "\n",
    "#### Motivación de la función *logit*\n",
    "\n",
    "Ahora bien, recordemos que la función de distribución de $Y$ puede escribirse como:\n",
    "\n",
    "$$\\begin{eqnarray*}\n",
    "f_{Y}(y) & = & p^{y}(1-p)^{1-y}\\\\ \n",
    "    & = & \\exp\\big[y\\ln(p) + (1-y)\\ln(1-p)\\big] \\\\\n",
    "    & = & \\exp\\left[y\\cdot \\underbrace{\\ln\\left(\\frac{p}{1-p}\\right)}_{\\color{green}{logit}} + \\ln(1-p)\\right]\n",
    "\\end{eqnarray*}\n",
    "$$\n",
    "\n",
    "Esta es la motivación de usar la función *logit*, pues la función de distribución de la variable $Y$ pertenece a la [familia exponencial.](https://en.wikipedia.org/wiki/Exponential_family)\n",
    "\n",
    "Para precisar, vemos que la forma funcional de la función $logit$ viene dada por:\n",
    "\n",
    "$$logit(p) = \\ln\\left(\\frac{p}{1-p}\\right)$$\n",
    "\n",
    "De la ecuación anterior podemos deducir que \n",
    "\n",
    "$$\\left\\{\n",
    "\\begin{array}{cc}\n",
    "p\\to0, & logit(p)\\to -\\infty\\\\\n",
    "p\\to1, & logit(p)\\to \\infty\n",
    "\\end{array}\\right.$$\n",
    "\n",
    "Así que utilizaremos esta función *logit* para asignar los valores de probabilidad de $(0,1)$ a $(-\\infty, \\infty)$\n",
    "\n",
    "Esto nos permite obtener la siguiente relación lineal:\n",
    "\n",
    "$$logit(p) = \\theta_0x_{0}^{(i)} + \\theta_{1}x_{1}^{(i)} + \\theta_{2}x_{2}^{(i)} + \\cdots + \\theta_{p}x_{p}^{(i)} = \\mathbf{x}^t\\boldsymbol{\\beta}$$\n",
    "\n",
    "Donde:\n",
    "\n",
    "- El superíndice denota el $i$-ésimo ejemplo (o individuo, item, etc)\n",
    "- El subíndice denota la característica o los predictores $x_1, x_2$, etc.\n",
    "- Por lo general la variable $x_0$ siempre es 1, para plantear un modelo con intercepto\n",
    "\n",
    "Adicional a esto, la cantidad $\\frac{p}{1-p}$ tiene un nombre especial, [*odds*](https://en.wikipedia.org/wiki/Odds). De forma coloquial, podemos entender esta cantidad como una comparación entre la cantidad de *casos a favor* sobre la cantidad de *casos en contra*."
   ]
  },
  {
   "cell_type": "code",
   "execution_count": 4,
   "id": "be893a19-bd42-4241-bc55-492531d2afa2",
   "metadata": {
    "collapsed": true,
    "jupyter": {
     "outputs_hidden": true
    },
    "tags": []
   },
   "outputs": [
    {
     "data": {
      "image/png": "[encoded data removed]",
      "text/plain": [
       "Plot with title “Función logit”"
      ]
     },
     "metadata": {
      "image/png": {
       "height": 420,
       "width": 420
      }
     },
     "output_type": "display_data"
    }
   ],
   "source": [
    "# Logit\n",
    "logit <- function(p){\n",
    "    log(p/(1-p))\n",
    "}\n",
    "\n",
    "# Gráfico\n",
    "p <- seq(1/10000, 9999/10000, by = 0.0001)\n",
    "plot(x = p, y = logit(p), type = \"l\", col = \"brown\", \n",
    "     las = 1, main = \"Función logit\")"
   ]
  },
  {
   "cell_type": "markdown",
   "id": "d51c4c2a-c2df-4520-9355-e635889f474a",
   "metadata": {},
   "source": [
    "Falta mencionar el último ingrediente para poder iniciar: **la verosimilitud**\n",
    "\n",
    "\n",
    "## Volviendo un poco atras ...\n",
    "\n",
    "La función de verosimilitud simplemente es la función de densidad conjunta (fdd) de un conjunto de variables aleatorias en función de los parámetros. Es decir que, una vez observados los datos proponemos un modelo probabilístico para la fdd y consideramos como variables a los parámetros. En lenguaje probabilístico:\n",
    "\n",
    "$$\\begin{eqnarray*}\n",
    "L(\\overbrace{\\boldsymbol{\\theta}}^{\\color{green}{\\text{Varía}}}|\\underbrace{x_1, \\ldots,x_k}_{\\color{blue}{\\text{Observados}}}) & = & f_{\\mathbf{X}_1,\\ldots,\\mathbf{X}_k}\\left(\\boldsymbol{\\theta}|x_1, \\ldots,x_k\\right) \\\\\n",
    "    & \\underbrace{=}_{\\color{red}{\\text{m.a.}}} & \\prod_{i=1}^{k} f_{\\mathbf{X}_1}(\\boldsymbol{\\theta}|x_i)\n",
    "\\end{eqnarray*}$$\n",
    "\n",
    "Y la *log-verosimilitud* es tomar el logaritmo natural de esta función: $\\mathcal{L}(\\boldsymbol{\\theta}) = \\ln \\big[L(\\boldsymbol{\\theta}|x_1,\\ldots,x_k)\\big]$\n",
    "\n",
    "Pero ¿y para qué esta función?. No ha mucho tiempo, los analistas de datos *old school*\n"
   ]
  },
  {
   "cell_type": "code",
   "execution_count": 5,
   "id": "eab289a0-b4ba-4bec-bfea-6a601f8eac33",
   "metadata": {},
   "outputs": [],
   "source": [
    "# Construcción de la Log-Verosimilitud\n",
    "Log_veros <- function(datos, densidad, parAmetros = 1,...){\n",
    "    if(parAmetros == 1){\n",
    "        L <- function(theta){\n",
    "            sum(log(densidad(datos, theta, ...)))\n",
    "        }\n",
    "# \"Vectorizar\" una función consiste en poder pasar un vector ...\n",
    "# ... como agumento y evaluar \"L\" en cada elemento\n",
    "        L <- Vectorize(L, \"theta\")\n",
    "    }else{\n",
    "        L <- function(theta1, theta2){\n",
    "            sum(log(densidad(x = datos, theta1, theta2, ...)))\n",
    "        }\n",
    "        L <- Vectorize(L, c(\"theta1\", \"theta2\"))\n",
    "        L1 <- function(Theta){\n",
    "            sum(log(densidad(x = datos, Theta[1], Theta[2], ...)))\n",
    "        }\n",
    "        list(\"Graficar\" = L, \"Optimizar\" = L1)\n",
    "    }\n",
    "}"
   ]
  },
  {
   "cell_type": "markdown",
   "id": "60cb8bd0-e8ae-49a1-8c67-2a1be26ad6d4",
   "metadata": {},
   "source": [
    "Ejemplos muy rápidos del uso de la función."
   ]
  },
  {
   "cell_type": "code",
   "execution_count": 11,
   "id": "eb417630-600b-4a67-b179-0754020fabc1",
   "metadata": {},
   "outputs": [
    {
     "data": {
      "image/png": "[encoded data removed]",
      "text/plain": [
       "plot without title"
      ]
     },
     "metadata": {
      "image/png": {
       "height": 420,
       "width": 420
      }
     },
     "output_type": "display_data"
    }
   ],
   "source": [
    "###~~~~~~~~~~~~~~~~~~~~ Ejemplo de función univariada:\n",
    "y <- rpois(20, lambda = 5)\n",
    "\n",
    "# Creamos la verosimilitud\n",
    "l_pois <- Log_veros(y, dpois)\n",
    "\n",
    "# Gráfico de la log_verosimilitud:\n",
    "x <- seq(0.5, 15, by = 0.1)\n",
    "plot(x, l_pois(x), type = \"l\")\n",
    "\n",
    "# Agregamos la estimación máximo verosimil\n",
    "x1 <- optimise(l_pois, c(0, 10), maximum = TRUE)\n",
    "abline(v = x1, col = \"red\")\n",
    "\n",
    "media <- mean(y)\n",
    "abline(v = media, col = \"blue\")"
   ]
  },
  {
   "cell_type": "code",
   "execution_count": null,
   "id": "fdb25f56-f516-4f10-b94f-0995381e4770",
   "metadata": {},
   "outputs": [],
   "source": [
    "# Ejemplos de uso de la función:\n",
    "y <- rnorm(10, mean = 10, sd = 5)\n",
    "\n",
    "\n",
    "\n",
    "l_norm <- Log_veros(y, dnorm, parAmetros=2)\n",
    "l_normG <- l_norm$Graficar\n",
    "l_normO <- l_norm$Optimizar\n",
    "media <- seq(5, 15, by = 0.1)\n",
    "varianza <- seq(1, 20, by = 0.1)\n",
    "Z <- outer(media, varianza, l_normG)\n",
    "persp(media, varianza, Z, theta = 50, phi = 20, col = \"blue\")"
   ]
  },
  {
   "cell_type": "code",
   "execution_count": 108,
   "id": "ab846646-341f-4322-b2cd-1a2a01aa6a86",
   "metadata": {},
   "outputs": [
    {
     "data": {
      "text/html": [
       "<dl>\n",
       "\t<dt>$par</dt>\n",
       "\t\t<dd><style>\n",
       ".list-inline {list-style: none; margin:0; padding: 0}\n",
       ".list-inline>li {display: inline-block}\n",
       ".list-inline>li:not(:last-child)::after {content: \"\\00b7\"; padding: 0 .5ex}\n",
       "</style>\n",
       "<ol class=list-inline><li>10.8489797242147</li><li>4.00046378802051</li></ol>\n",
       "</dd>\n",
       "\t<dt>$value</dt>\n",
       "\t\t<dd>-28.0528296221109</dd>\n",
       "\t<dt>$counts</dt>\n",
       "\t\t<dd><style>\n",
       ".dl-inline {width: auto; margin:0; padding: 0}\n",
       ".dl-inline>dt, .dl-inline>dd {float: none; width: auto; display: inline-block}\n",
       ".dl-inline>dt::after {content: \":\\0020\"; padding-right: .5ex}\n",
       ".dl-inline>dt:not(:first-of-type) {padding-left: .5ex}\n",
       "</style><dl class=dl-inline><dt>function</dt><dd>63</dd><dt>gradient</dt><dd>&lt;NA&gt;</dd></dl>\n",
       "</dd>\n",
       "\t<dt>$convergence</dt>\n",
       "\t\t<dd>0</dd>\n",
       "\t<dt>$message</dt>\n",
       "\t\t<dd>NULL</dd>\n",
       "</dl>\n"
      ],
      "text/latex": [
       "\\begin{description}\n",
       "\\item[\\$par] \\begin{enumerate*}\n",
       "\\item 10.8489797242147\n",
       "\\item 4.00046378802051\n",
       "\\end{enumerate*}\n",
       "\n",
       "\\item[\\$value] -28.0528296221109\n",
       "\\item[\\$counts] \\begin{description*}\n",
       "\\item[function] 63\n",
       "\\item[gradient] <NA>\n",
       "\\end{description*}\n",
       "\n",
       "\\item[\\$convergence] 0\n",
       "\\item[\\$message] NULL\n",
       "\\end{description}\n"
      ],
      "text/markdown": [
       "$par\n",
       ":   1. 10.8489797242147\n",
       "2. 4.00046378802051\n",
       "\n",
       "\n",
       "\n",
       "$value\n",
       ":   -28.0528296221109\n",
       "$counts\n",
       ":   function\n",
       ":   63gradient\n",
       ":   &lt;NA&gt;\n",
       "\n",
       "\n",
       "$convergence\n",
       ":   0\n",
       "$message\n",
       ":   NULL\n",
       "\n",
       "\n"
      ],
      "text/plain": [
       "$par\n",
       "[1] 10.848980  4.000464\n",
       "\n",
       "$value\n",
       "[1] -28.05283\n",
       "\n",
       "$counts\n",
       "function gradient \n",
       "      63       NA \n",
       "\n",
       "$convergence\n",
       "[1] 0\n",
       "\n",
       "$message\n",
       "NULL\n"
      ]
     },
     "metadata": {},
     "output_type": "display_data"
    }
   ],
   "source": [
    "#args(optim)\n",
    "#args(optim)\n",
    "optim(c(5, 2), fn = l_normO, control = list(fnscale = -1))"
   ]
  },
  {
   "cell_type": "code",
   "execution_count": 58,
   "id": "a7a6041d-2ab9-4e51-9228-6f25556b621b",
   "metadata": {
    "collapsed": true,
    "jupyter": {
     "outputs_hidden": true,
     "source_hidden": true
    },
    "tags": []
   },
   "outputs": [
    {
     "data": {
      "text/html": [
       "<dl>\n",
       "\t<dt>$par</dt>\n",
       "\t\t<dd><style>\n",
       ".list-inline {list-style: none; margin:0; padding: 0}\n",
       ".list-inline>li {display: inline-block}\n",
       ".list-inline>li:not(:last-child)::after {content: \"\\00b7\"; padding: 0 .5ex}\n",
       "</style>\n",
       "<ol class=list-inline><li>1.00026013872567</li><li>1.00050599930377</li></ol>\n",
       "</dd>\n",
       "\t<dt>$value</dt>\n",
       "\t\t<dd>8.82524109672275e-08</dd>\n",
       "\t<dt>$counts</dt>\n",
       "\t\t<dd><style>\n",
       ".dl-inline {width: auto; margin:0; padding: 0}\n",
       ".dl-inline>dt, .dl-inline>dd {float: none; width: auto; display: inline-block}\n",
       ".dl-inline>dt::after {content: \":\\0020\"; padding-right: .5ex}\n",
       ".dl-inline>dt:not(:first-of-type) {padding-left: .5ex}\n",
       "</style><dl class=dl-inline><dt>function</dt><dd>195</dd><dt>gradient</dt><dd>&lt;NA&gt;</dd></dl>\n",
       "</dd>\n",
       "\t<dt>$convergence</dt>\n",
       "\t\t<dd>0</dd>\n",
       "\t<dt>$message</dt>\n",
       "\t\t<dd>NULL</dd>\n",
       "</dl>\n"
      ],
      "text/latex": [
       "\\begin{description}\n",
       "\\item[\\$par] \\begin{enumerate*}\n",
       "\\item 1.00026013872567\n",
       "\\item 1.00050599930377\n",
       "\\end{enumerate*}\n",
       "\n",
       "\\item[\\$value] 8.82524109672275e-08\n",
       "\\item[\\$counts] \\begin{description*}\n",
       "\\item[function] 195\n",
       "\\item[gradient] <NA>\n",
       "\\end{description*}\n",
       "\n",
       "\\item[\\$convergence] 0\n",
       "\\item[\\$message] NULL\n",
       "\\end{description}\n"
      ],
      "text/markdown": [
       "$par\n",
       ":   1. 1.00026013872567\n",
       "2. 1.00050599930377\n",
       "\n",
       "\n",
       "\n",
       "$value\n",
       ":   8.82524109672275e-08\n",
       "$counts\n",
       ":   function\n",
       ":   195gradient\n",
       ":   &lt;NA&gt;\n",
       "\n",
       "\n",
       "$convergence\n",
       ":   0\n",
       "$message\n",
       ":   NULL\n",
       "\n",
       "\n"
      ],
      "text/plain": [
       "$par\n",
       "[1] 1.000260 1.000506\n",
       "\n",
       "$value\n",
       "[1] 8.825241e-08\n",
       "\n",
       "$counts\n",
       "function gradient \n",
       "     195       NA \n",
       "\n",
       "$convergence\n",
       "[1] 0\n",
       "\n",
       "$message\n",
       "NULL\n"
      ]
     },
     "metadata": {},
     "output_type": "display_data"
    }
   ],
   "source": [
    "fr <- function(x) {   ## Rosenbrock Banana function\n",
    "    x1 <- x[1]\n",
    "    x2 <- x[2]\n",
    "    100 * (x2 - x1 * x1)^2 + (1 - x1)^2}\n",
    "\n",
    " optim(c(-1.2,1), fr)"
   ]
  },
  {
   "cell_type": "code",
   "execution_count": 109,
   "id": "297447d4-6253-45c2-8f4f-0a13c72f7216",
   "metadata": {},
   "outputs": [
    {
     "data": {
      "text/html": [
       "4.2165810129158"
      ],
      "text/latex": [
       "4.2165810129158"
      ],
      "text/markdown": [
       "4.2165810129158"
      ],
      "text/plain": [
       "[1] 4.216581"
      ]
     },
     "metadata": {},
     "output_type": "display_data"
    }
   ],
   "source": [
    "sqrt(var(y))"
   ]
  },
  {
   "cell_type": "code",
   "execution_count": 110,
   "id": "a86e6572-2543-4d20-9647-7cd8f89d6ec5",
   "metadata": {},
   "outputs": [
    {
     "data": {
      "text/html": [
       "4.00019998183013"
      ],
      "text/latex": [
       "4.00019998183013"
      ],
      "text/markdown": [
       "4.00019998183013"
      ],
      "text/plain": [
       "[1] 4.0002"
      ]
     },
     "metadata": {},
     "output_type": "display_data"
    }
   ],
   "source": [
    "sqrt(var(y)*(length(y)-1)/length(y))"
   ]
  },
  {
   "cell_type": "markdown",
   "id": "19844000",
   "metadata": {},
   "source": [
    "$(θ_0, θ_1, ..., θ_D)$ es un vector columna $(D+1)×1$. Para vectorizar el cálculo, el lado derecho (RHS) puede escribirse como transposición $(θ)⋅X$ o $X⋅θ$. A continuación, la tarea consiste en encontrar $θ$, que representa mejor la variación de ***p*** al variar $X$ entre $m$ ejemplos de entrenamiento."
   ]
  },
  {
   "cell_type": "markdown",
   "id": "ff9437bb",
   "metadata": {},
   "source": [
    "Para encontrar $θ$, necesitamos definir una función de coste. La función de coste es tal que cada predicción incorrecta (o más alejada del valor real) aumentará su valor. En la regresión logística, la función de coste se define como:"
   ]
  },
  {
   "cell_type": "markdown",
   "id": "bcfd3cb5",
   "metadata": {},
   "source": [
    "$$ J = - \\frac{1}{m} \\sum_{i=1}^{m} (y^{(i)}log(h(x^{(i)})) + (1 -  $$"
   ]
  },
  {
   "cell_type": "markdown",
   "id": "631dd92f",
   "metadata": {},
   "source": [
    "## Proceso de regresión logística\n"
   ]
  },
  {
   "cell_type": "markdown",
   "id": "a23821e3",
   "metadata": {},
   "source": [
    "Dado un dato(X,Y), siendo X una matriz de valores con m ejemplos y n características e Y un vector con m ejemplos. El objetivo es entrenar el modelo para predecir a qué clase pertenecen los valores futuros. En primer lugar, creamos una matriz de pesos con una inicialización aleatoria. Luego la multiplicamos por las características."
   ]
  },
  {
   "cell_type": "markdown",
   "id": "bad49fe9",
   "metadata": {},
   "source": [
    "$$ a = w_0 + w_1x_1 + w_2x_2 + ...w_nx_n$$"
   ]
  },
  {
   "cell_type": "markdown",
   "id": "5bb90cbc",
   "metadata": {},
   "source": [
    "A continuación, pasamos el resultado obtenido de la ecuación anterior a una función de enlace"
   ]
  },
  {
   "cell_type": "markdown",
   "id": "5bfe3c70",
   "metadata": {},
   "source": []
  },
  {
   "cell_type": "markdown",
   "id": "b5a5f404",
   "metadata": {},
   "source": [
    "$$ \\sigma(z) = \\frac{1}{1+e^{-z}} $$"
   ]
  },
  {
   "cell_type": "markdown",
   "id": "bd9488ec",
   "metadata": {},
   "source": [
    "Enlaces :\n",
    "https://towardsdatascience.com/logistic-regression-from-scratch-in-r-b5b122fd8e83 --topê\n",
    "https://medium.com/analytics-vidhya/logistic-regression-b35d2801a29c\n",
    "https://medium.com/analytics-vidhya/the-math-behind-logistic-regression-c2f04ca27bca\n",
    "https://towardsdatascience.com/logistic-regression-explained-from-scratch-visually-mathematically-and-programmatically-eb83520fdf9a"
   ]
  }
 ],
 "metadata": {
  "kernelspec": {
   "display_name": "R",
   "language": "R",
   "name": "ir"
  },
  "language_info": {
   "codemirror_mode": "r",
   "file_extension": ".r",
   "mimetype": "text/x-r-source",
   "name": "R",
   "pygments_lexer": "r",
   "version": "4.1.2"
  }
 },
 "nbformat": 4,
 "nbformat_minor": 5
}
